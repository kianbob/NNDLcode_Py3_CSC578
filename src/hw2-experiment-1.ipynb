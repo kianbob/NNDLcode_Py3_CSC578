{
 "cells": [
  {
   "cell_type": "markdown",
   "metadata": {},
   "source": [
    "# 578 HW#2 Support code(10/6/2018)"
   ]
  },
  {
   "cell_type": "code",
   "execution_count": 1,
   "metadata": {},
   "outputs": [],
   "source": [
    "import NN578_network2 as network2\n",
    "import numpy as np\n",
    "\n",
    "# Load the iris train-test (separate) data files\n",
    "def my_load_csv(fname, no_trainfeatures, no_testfeatures):\n",
    "    ret = np.genfromtxt(fname, delimiter=',')\n",
    "    data = np.array([(entry[:no_trainfeatures],entry[no_trainfeatures:]) for entry in ret])\n",
    "    temp_inputs = [np.reshape(x, (no_trainfeatures, 1)) for x in data[:,0]]\n",
    "    temp_results = [np.reshape(y, (no_testfeatures, 1)) for y in data[:,1]]\n",
    "    dataset = list(zip(temp_inputs, temp_results))\n",
    "    return dataset\n",
    "\n",
    "iris_train = my_load_csv('../data/iris-train-1.csv', 4, 3)\n",
    "iris_test = my_load_csv('../data/iris-test-1.csv', 4, 3)\n"
   ]
  },
  {
   "cell_type": "markdown",
   "metadata": {},
   "source": [
    "## (1) Experiment with One-training-One-test Iris data\n",
    "\n",
    "### You canrun the start-up code as is to generate these."
   ]
  },
  {
   "cell_type": "code",
   "execution_count": 2,
   "metadata": {},
   "outputs": [
    {
     "name": "stdout",
     "output_type": "stream",
     "text": [
      "Epoch 0 training complete\n",
      "Cost on training data: 0.26673128660052947\n",
      "Accuracy on training data: 1 / 1\n",
      "Cost on evaluation data: 0.3244002758397572\n",
      "Accuracy on evaluation data: 0 / 1\n",
      "\n",
      "Epoch 1 training complete\n",
      "Cost on training data: 0.2107866577006649\n",
      "Accuracy on training data: 1 / 1\n",
      "Cost on evaluation data: 0.37647122809828165\n",
      "Accuracy on evaluation data: 0 / 1\n",
      "\n"
     ]
    },
    {
     "data": {
      "text/plain": [
       "([0.3244002758397572, 0.37647122809828165],\n",
       " [0, 0],\n",
       " [0.26673128660052947, 0.2107866577006649],\n",
       " [1, 1])"
      ]
     },
     "execution_count": 2,
     "metadata": {},
     "output_type": "execute_result"
    }
   ],
   "source": [
    "# Test with one-data Iris data\n",
    "\n",
    "inst1 = (np.array([5.7, 3, 4.2, 1.2]), np.array([0., 1., 0.]))\n",
    "x1 = np.reshape(inst1[0], (4, 1))\n",
    "y1 = np.reshape(inst1[1], (3, 1))\n",
    "sample1 = [(x1, y1)]\n",
    "inst2 = (np.array([4.8, 3.4, 1.6, 0.2]), np.array([1., 0., 0.]))\n",
    "x2 = np.reshape(inst2[0], (4, 1))\n",
    "y2 = np.reshape(inst2[1], (3, 1))\n",
    "sample2 = [(x2, y2)]\n",
    "\n",
    "net4 = network2.load_network(\"iris-423.dat\")\n",
    "net4.set_parameters(cost=network2.QuadraticCost)\n",
    "\n",
    "net4.SGD(sample1, 2, 1, 1.0, evaluation_data=sample2, monitor_evaluation_cost=True, \n",
    "            monitor_evaluation_accuracy=True,\n",
    "            monitor_training_cost=True,\n",
    "            monitor_training_accuracy=True)\n"
   ]
  },
  {
   "cell_type": "markdown",
   "metadata": {},
   "source": [
    "## (2) Experiment with Iris train-test-1 datasets, with random-shuffle suppressed training"
   ]
  },
  {
   "cell_type": "code",
   "execution_count": 3,
   "metadata": {},
   "outputs": [
    {
     "name": "stdout",
     "output_type": "stream",
     "text": [
      "Epoch 0 training complete\n",
      "Cost on training data: 0.19921201829527443\n",
      "Accuracy on training data: 65 / 95\n",
      "Cost on evaluation data: 0.2062459556293346\n",
      "Accuracy on evaluation data: 35 / 55\n",
      "\n",
      "Epoch 1 training complete\n",
      "Cost on training data: 0.17493943649033153\n",
      "Accuracy on training data: 65 / 95\n",
      "Cost on evaluation data: 0.18498540319269116\n",
      "Accuracy on evaluation data: 35 / 55\n",
      "\n",
      "Epoch 2 training complete\n",
      "Cost on training data: 0.17192322048026074\n",
      "Accuracy on training data: 65 / 95\n",
      "Cost on evaluation data: 0.18164960141449127\n",
      "Accuracy on evaluation data: 35 / 55\n",
      "\n",
      "Epoch 3 training complete\n",
      "Cost on training data: 0.17008233877184958\n",
      "Accuracy on training data: 65 / 95\n",
      "Cost on evaluation data: 0.18007607654357982\n",
      "Accuracy on evaluation data: 35 / 55\n",
      "\n",
      "Epoch 4 training complete\n",
      "Cost on training data: 0.17033557671133212\n",
      "Accuracy on training data: 65 / 95\n",
      "Cost on evaluation data: 0.1806136904985376\n",
      "Accuracy on evaluation data: 35 / 55\n",
      "\n",
      "Epoch 5 training complete\n",
      "Cost on training data: 0.16956211823052392\n",
      "Accuracy on training data: 65 / 95\n",
      "Cost on evaluation data: 0.1797840535889224\n",
      "Accuracy on evaluation data: 35 / 55\n",
      "\n",
      "Epoch 6 training complete\n",
      "Cost on training data: 0.16975368984614725\n",
      "Accuracy on training data: 65 / 95\n",
      "Cost on evaluation data: 0.18006704293710857\n",
      "Accuracy on evaluation data: 35 / 55\n",
      "\n",
      "Epoch 7 training complete\n",
      "Cost on training data: 0.16952334296530483\n",
      "Accuracy on training data: 65 / 95\n",
      "Cost on evaluation data: 0.17991161515041354\n",
      "Accuracy on evaluation data: 35 / 55\n",
      "\n",
      "Epoch 8 training complete\n",
      "Cost on training data: 0.169305406138996\n",
      "Accuracy on training data: 65 / 95\n",
      "Cost on evaluation data: 0.17968820850055178\n",
      "Accuracy on evaluation data: 35 / 55\n",
      "\n",
      "Epoch 9 training complete\n",
      "Cost on training data: 0.1691468590266181\n",
      "Accuracy on training data: 64 / 95\n",
      "Cost on evaluation data: 0.18102766041404988\n",
      "Accuracy on evaluation data: 34 / 55\n",
      "\n"
     ]
    },
    {
     "data": {
      "text/plain": [
       "([0.2062459556293346,\n",
       "  0.18498540319269116,\n",
       "  0.18164960141449127,\n",
       "  0.18007607654357982,\n",
       "  0.1806136904985376,\n",
       "  0.1797840535889224,\n",
       "  0.18006704293710857,\n",
       "  0.17991161515041354,\n",
       "  0.17968820850055178,\n",
       "  0.18102766041404988],\n",
       " [35, 35, 35, 35, 35, 35, 35, 35, 35, 34],\n",
       " [0.19921201829527443,\n",
       "  0.17493943649033153,\n",
       "  0.17192322048026074,\n",
       "  0.17008233877184958,\n",
       "  0.17033557671133212,\n",
       "  0.16956211823052392,\n",
       "  0.16975368984614725,\n",
       "  0.16952334296530483,\n",
       "  0.169305406138996,\n",
       "  0.1691468590266181],\n",
       " [65, 65, 65, 65, 65, 65, 65, 65, 65, 64])"
      ]
     },
     "execution_count": 3,
     "metadata": {},
     "output_type": "execute_result"
    }
   ],
   "source": [
    "net2 = network2.load_network(\"iris-423.dat\")\n",
    "\n",
    "# Set hyper-parameter values individually after the network\n",
    "net2.set_parameters(cost=network2.QuadraticCost)\n",
    "\n",
    "net2.SGD(iris_train, 10, 1, 1.5, evaluation_data=iris_test, monitor_evaluation_cost=True, \n",
    "            monitor_evaluation_accuracy=True,\n",
    "            monitor_training_cost=True,\n",
    "            monitor_training_accuracy=True)"
   ]
  }
 ],
 "metadata": {
  "kernelspec": {
   "display_name": "Python 3",
   "language": "python",
   "name": "python3"
  },
  "language_info": {
   "codemirror_mode": {
    "name": "ipython",
    "version": 3
   },
   "file_extension": ".py",
   "mimetype": "text/x-python",
   "name": "python",
   "nbconvert_exporter": "python",
   "pygments_lexer": "ipython3",
   "version": "3.6.3"
  }
 },
 "nbformat": 4,
 "nbformat_minor": 2
}
